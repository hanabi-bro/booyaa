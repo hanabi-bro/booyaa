{
 "cells": [
  {
   "cell_type": "code",
   "execution_count": 14,
   "metadata": {},
   "outputs": [
    {
     "data": {
      "text/plain": [
       "[{'group-id': ['101'],\n",
       "  'group-name': ['lab-ha-01'],\n",
       "  'mode': ['a-p'],\n",
       "  'hbdev': ['internal4', '100', 'internal5', '100'],\n",
       "  'ha-mgmt-status': ['enable'],\n",
       "  'ha-mgmt-interfaces': [{'1': {'interface': ['internal5'],\n",
       "     'gateway': ['10.0.0.254'],\n",
       "     'id': '1',\n",
       "     'dst': [''],\n",
       "     'gateway6': ['']}}],\n",
       "  'override': ['disable'],\n",
       "  'password': [''],\n",
       "  'monitor': [''],\n",
       "  'priority': ['120'],\n",
       "  'sync-config': ['enable'],\n",
       "  'encryption': ['disable'],\n",
       "  'authentication': ['disable'],\n",
       "  'session-pickup': ['disable']}]"
      ]
     },
     "execution_count": 14,
     "metadata": {},
     "output_type": "execute_result"
    }
   ],
   "source": [
    "import json\n",
    "from copy import deepcopy\n",
    "from pprint import pprint\n",
    "\n",
    "with open('../../tmp/ha.json', 'r', encoding='utf-8') as f:\n",
    "    vdom_obj = json.load(f)\n",
    "\n",
    "from copy import deepcopy\n",
    "from pprint import pprint\n",
    "\n",
    "\n",
    "class Ha:\n",
    "    def __init__(self) -> None:\n",
    "        self.field_names = {\n",
    "            '__layout__':     {'layout': 'virtical', 'header_width': 25, 'value_witdh': 25, 'sheetname': 'HA', 'global': True},\n",
    "            'mode':                          {'width': 35, 'default_value': ['standalone']},\n",
    "            'group-id':                      {'width': 35, 'default_value': ['']},\n",
    "            'group-name':                    {'width': 35, 'default_value': ['']},\n",
    "            'password':                      {'width': 35, 'default_value': ['']},\n",
    "            'hbdev':                         {'width': 35, 'default_value': ['']},\n",
    "            'monitor':                       {'width': 35, 'default_value': ['']},\n",
    "            'override':                      {'width': 35, 'default_value': ['disable']},\n",
    "            'priority':                      {'width': 35, 'default_value': ['120']},\n",
    "            'sync-config':                   {'width': 35, 'default_value': ['enable']},\n",
    "            'encryption':                    {'width': 35, 'default_value': ['disable']},\n",
    "            'authentication':                {'width': 35, 'default_value': ['disable']},\n",
    "            'session-pickup':                {'width': 35, 'default_value': ['disable']},\n",
    "            'ha-mgmt-status':                {'width': 35, 'default_value': ['disable']},\n",
    "            'ha-mgmt-interfaces':            {'width': 35, 'default_value': []},\n",
    "        }\n",
    "\n",
    "        self.ha_mgmt_interfaces = {\n",
    "            '__layout__':     {'layout': 'horizontal', 'sheetname': 'HA', 'subtitle': 'Reserved Mgmt Interface','global': True},\n",
    "            'id':                          {'width': 35, 'default_value': ['']},\n",
    "            'interface':                     {'width': 35, 'default_value': ['']},\n",
    "            'dst':                           {'width': 35, 'default_value': ['']},\n",
    "            'gateway':                       {'width': 35, 'default_value': ['']},\n",
    "            'gateway6':                      {'width': 35, 'default_value': ['']},\n",
    "        }\n",
    "\n",
    "    def format(self, addr_obj) -> list:\n",
    "        mod_obj = []\n",
    "        # [\n",
    "        #   {'none': {'uuid': ['6a33b3c4-a701-51ef-74c9-aadedb00dbb9'], 'subnet': ['0.0.0.0', '255.255.255.255']}}\n",
    "        # ]\n",
    "        tmp_line = deepcopy(addr_obj)\n",
    "        for k, v in self.field_names.items():\n",
    "            if k == '__layout__':\n",
    "                continue\n",
    "            tmp_line.setdefault(k, v['default_value'])\n",
    "\n",
    "        for param in tmp_line['ha-mgmt-interfaces']:\n",
    "            num = next(iter(param))\n",
    "            param[num]['id'] = num\n",
    "            for k, v in self.ha_mgmt_interfaces.items():\n",
    "                if k == '__layout__':\n",
    "                    continue\n",
    "                param[num].setdefault(k, v['default_value'])\n",
    "\n",
    "        mod_line = tmp_line\n",
    "        mod_obj.append(mod_line)\n",
    "\n",
    "        return mod_obj\n",
    "\n",
    "\n",
    "ha = Ha()\n",
    "ha.format(vdom_obj['system_ha'])\n"
   ]
  }
 ],
 "metadata": {
  "kernelspec": {
   "display_name": ".venv",
   "language": "python",
   "name": "python3"
  },
  "language_info": {
   "codemirror_mode": {
    "name": "ipython",
    "version": 3
   },
   "file_extension": ".py",
   "mimetype": "text/x-python",
   "name": "python",
   "nbconvert_exporter": "python",
   "pygments_lexer": "ipython3",
   "version": "3.13.1"
  }
 },
 "nbformat": 4,
 "nbformat_minor": 2
}
